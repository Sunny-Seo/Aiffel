{
 "cells": [
  {
   "cell_type": "markdown",
   "id": "70dd3c09",
   "metadata": {},
   "source": [
    "# 4. 작사가 인공지능 만들기"
   ]
  },
  {
   "cell_type": "markdown",
   "id": "402a04ab",
   "metadata": {},
   "source": [
    "### 학습과정"
   ]
  },
  {
   "cell_type": "markdown",
   "id": "c12aee3b",
   "metadata": {},
   "source": [
    "1. 데이터 다운로드\n",
    "2. 데이터 읽어오기\n",
    "3. 데이터 정제\n",
    "4. 평가 데이터셋 분리\n",
    "5. 인공지능 만들기"
   ]
  },
  {
   "cell_type": "markdown",
   "id": "f53bfc6c",
   "metadata": {},
   "source": [
    "### 데이터 읽어오기"
   ]
  },
  {
   "cell_type": "code",
   "execution_count": 1,
   "id": "49ff8397",
   "metadata": {},
   "outputs": [
    {
     "name": "stdout",
     "output_type": "stream",
     "text": [
      "데이터의 크기: 187088\n",
      "Examples:\n",
      " [\"Now I've heard there was a secret chord\", 'That David played, and it pleased the Lord', \"But you don't really care for music, do you?\", 'It goes like this', 'The fourth, the fifth', 'The minor fall, the major lift', 'The baffled king composing Hallelujah Hallelujah', 'Hallelujah', 'Hallelujah', 'Hallelujah Your faith was strong but you needed proof', 'You saw her bathing on the roof', 'Her beauty and the moonlight overthrew her', 'She tied you', 'To a kitchen chair', 'She broke your throne, and she cut your hair', 'And from your lips she drew the Hallelujah Hallelujah', 'Hallelujah', 'Hallelujah', 'Hallelujah You say I took the name in vain', \"I don't even know the name\", \"But if I did, well really, what's it to you?\", \"There's a blaze of light\", 'In every word', \"It doesn't matter which you heard\", 'The holy or the broken Hallelujah Hallelujah', 'Hallelujah', 'Hallelujah', \"Hallelujah I did my best, it wasn't much\", \"I couldn't feel, so I tried to touch\", \"I've told the truth, I didn't come to fool you\"]\n"
     ]
    }
   ],
   "source": [
    "import re\n",
    "import numpy as np\n",
    "import tensorflow as tf\n",
    "import glob\n",
    "import os\n",
    "\n",
    "txt_file_path = os.getenv('HOME')+'/aiffel/lyricist/data/lyrics/*'\n",
    "\n",
    "txt_list=  glob.glob(txt_file_path)\n",
    "\n",
    "raw_corpus = []\n",
    "\n",
    "#여러개의 txt 파일을 모두 읽어서 raw_corpus 에 담습니다.\n",
    "for txt_file in txt_list:\n",
    "    with open(txt_file, \"r\") as f:\n",
    "        raw = f.read().splitlines()  # 텍스트를 라인 단위로 끊어서 읽어오기\n",
    "        raw_corpus.extend(raw)\n",
    "        \n",
    "print('데이터의 크기:', len(raw_corpus))\n",
    "print('Examples:\\n', raw_corpus[:30])"
   ]
  },
  {
   "cell_type": "markdown",
   "id": "6682da31",
   "metadata": {},
   "source": [
    "### 데이터 정제하기"
   ]
  },
  {
   "cell_type": "code",
   "execution_count": 2,
   "id": "de16e651",
   "metadata": {},
   "outputs": [
    {
     "name": "stdout",
     "output_type": "stream",
     "text": [
      "Now I've heard there was a secret chord\n",
      "That David played, and it pleased the Lord\n",
      "But you don't really care for music, do you?\n",
      "It goes like this\n",
      "The fourth, the fifth\n",
      "The minor fall, the major lift\n",
      "The baffled king composing Hallelujah Hallelujah\n",
      "Hallelujah\n",
      "Hallelujah\n",
      "Hallelujah Your faith was strong but you needed proof\n",
      "You saw her bathing on the roof\n",
      "Her beauty and the moonlight overthrew her\n",
      "She tied you\n",
      "To a kitchen chair\n",
      "She broke your throne, and she cut your hair\n",
      "And from your lips she drew the Hallelujah Hallelujah\n",
      "Hallelujah\n",
      "Hallelujah\n",
      "Hallelujah You say I took the name in vain\n",
      "I don't even know the name\n",
      "But if I did, well really, what's it to you?\n",
      "There's a blaze of light\n",
      "In every word\n",
      "It doesn't matter which you heard\n",
      "The holy or the broken Hallelujah Hallelujah\n",
      "Hallelujah\n",
      "Hallelujah\n",
      "Hallelujah I did my best, it wasn't much\n",
      "I couldn't feel, so I tried to touch\n",
      "I've told the truth, I didn't come to fool you\n",
      "And even though\n"
     ]
    }
   ],
   "source": [
    "for idx, sentence in enumerate(raw_corpus):\n",
    "    if len(sentence) == 0: continue   #길이가 0인 문장은 건너뜁니다.\n",
    "    #if sentence[0] == '[': continue    # 문장 처음이 '['인 문장은 건너뜁니다.\n",
    "    #if sentence[-1] == ']': continue   # 문장 끝이 ']'d인 문장은 건너뜁니다.\n",
    "    if idx > 30: break   #문장 30개만 확인\n",
    "    print(sentence)"
   ]
  },
  {
   "cell_type": "markdown",
   "id": "a692038e",
   "metadata": {},
   "source": [
    "토큰화\n",
    "\n",
    "    1. 문장 부호 양쪽에 공백을 추가\n",
    "    2. 모든 문자들을 소문자로 변환\n",
    "    3. 특수문자들은 모두 제거"
   ]
  },
  {
   "cell_type": "code",
   "execution_count": 3,
   "id": "25688174",
   "metadata": {},
   "outputs": [],
   "source": [
    "def preprocess_sentence(sentence):\n",
    "    sentence = sentence.lower().strip()    # 소문자로 바꾸고 양족 공백을 삭제\n",
    "    \n",
    "    # 아래 3단계를 거쳐 sentence는 스페이스 1개를 delimeter로 하는 소문자 단어 시퀀스로 바뀝니다.\n",
    "    sentence = re.sub(r\"([?.!,¿])\", r\" \\1 \", sentence)     # 패턴의 특수문자를 만나면 특수문자 양쪽에 공백을 추가\n",
    "    sentence = re.sub(r'[\" \"]+', \" \", sentence)             # 공백 패턴을 만나면 스페이스 1개로 치환\n",
    "    sentence = re.sub(r\"[^a-zA-Z?.!,¿]+\", \" \", sentence)   # a-zA-Z?.!,¿ 패턴을 제외한 모든 문자(공백문자까지도)를 스페이스 1개로 치환\n",
    "    \n",
    "    sentence = sentence.strip()\n",
    "    \n",
    "    sentence = '<start> ' + sentence + ' <end>'       # 문자 앞뒤로 <start>와 <end> 를 단어처럼 붙여줌\n",
    "    \n",
    "    if \"verse\" in sentence:\n",
    "        sentence = sentence.replace(\"verse\", \"\")\n",
    "    if \"chorus\" in sentence:\n",
    "        sentence = sentence.replace(\"chorus\", \"\")\n",
    "        \n",
    "    return sentence"
   ]
  },
  {
   "cell_type": "code",
   "execution_count": 4,
   "id": "14ff864b",
   "metadata": {},
   "outputs": [],
   "source": [
    "corpus = []\n",
    "for sentence in raw_corpus:\n",
    "    if len(sentence) == 0: continue\n",
    "    a0 = preprocess_sentence(sentence)\n",
    "    if len(a0.split()) > 15: continue\n",
    "    corpus.append(a0)"
   ]
  },
  {
   "cell_type": "code",
   "execution_count": 5,
   "id": "b7d4ebee",
   "metadata": {},
   "outputs": [
    {
     "name": "stdout",
     "output_type": "stream",
     "text": [
      "156262\n",
      "[[   2   50    4 ...    0    0    0]\n",
      " [   2   15 2971 ...    0    0    0]\n",
      " [   2   33    7 ...   46    3    0]\n",
      " ...\n",
      " [   2    4  117 ...    0    0    0]\n",
      " [   2  257  195 ...   12    3    0]\n",
      " [   2    7   34 ...    0    0    0]] <keras_preprocessing.text.Tokenizer object at 0x7fedb64b5f40>\n"
     ]
    }
   ],
   "source": [
    "def tokenize(corpus):\n",
    "    # 텐서플로우에서 제공하는 Tokenizer 패키지를 생성\n",
    "    tokenizer = tf.keras.preprocessing.text.Tokenizer(\n",
    "        num_words=12000,  # 전체 단어의 개수 \n",
    "        filters=' ',    # 별도로 전처리 로직을 추가할 수 있음. 이번에는 사용하지 안함\n",
    "        oov_token=\"<unk>\"  # out-of-vocabulary, 사전에 없었던 단어는 <unk> 처리\n",
    "    )\n",
    "    tokenizer.fit_on_texts(corpus)   # 구축한 corpus로부터 Tokenizer가 사전을 자동구축\n",
    "\n",
    "    # 이후 tokenizer를 활용하여 모델에 입력할 데이터셋을 구축하\n",
    "    tensor = tokenizer.texts_to_sequences(corpus)   # tokenizer는 구축한 사전으로부터 corpus를 해석해 Tensor로 변환.\n",
    "   \n",
    "    for num in tensor:\n",
    "        if len(num) >= 29:\n",
    "            tensor = np.delete(tensor, num)\n",
    "            \n",
    "    print(len(tensor))\n",
    "    tensor = tf.keras.preprocessing.sequence.pad_sequences(tensor, padding='post',maxlen=15)  \n",
    "\n",
    "    print(tensor,tokenizer)\n",
    "    return tensor, tokenizer\n",
    "\n",
    "    \n",
    "tensor, tokenizer = tokenize(corpus)"
   ]
  },
  {
   "cell_type": "code",
   "execution_count": 6,
   "id": "58689692",
   "metadata": {},
   "outputs": [
    {
     "name": "stdout",
     "output_type": "stream",
     "text": [
      "1 : <unk>\n",
      "2 : <start>\n",
      "3 : <end>\n",
      "4 : i\n",
      "5 : ,\n",
      "6 : the\n",
      "7 : you\n",
      "8 : and\n",
      "9 : a\n",
      "10 : to\n"
     ]
    }
   ],
   "source": [
    "# 단어 사전 어떻게 생겼는지 확인\n",
    "for idx in tokenizer.index_word:\n",
    "    print(idx, \":\", tokenizer.index_word[idx])\n",
    "\n",
    "    if idx >= 10: break"
   ]
  },
  {
   "cell_type": "code",
   "execution_count": 7,
   "id": "9d69a404",
   "metadata": {},
   "outputs": [],
   "source": [
    "src_input = tensor[:, :-1]  # tensor에서 마지막 토큰을 잘라내서 소스 문장을 생성, 마지막 토근은 <end> 가 아니라 <pad> 일 가능성이 높다.\n",
    "tgt_input = tensor[:, 1:]   # tensor에서 <start>를 잘라내서 타켓 문장을 생성.\n"
   ]
  },
  {
   "cell_type": "code",
   "execution_count": 8,
   "id": "86843b00",
   "metadata": {},
   "outputs": [],
   "source": [
    "from sklearn.model_selection import train_test_split\n",
    "\n",
    "enc_train, enc_val, dec_train, dec_val = train_test_split(src_input,\n",
    "                                                         tgt_input,\n",
    "                                                         train_size=0.8,\n",
    "                                                         test_size=0.2, random_state=20)"
   ]
  },
  {
   "cell_type": "code",
   "execution_count": 9,
   "id": "1ccd51f6",
   "metadata": {},
   "outputs": [
    {
     "name": "stdout",
     "output_type": "stream",
     "text": [
      "Source Train: (125009, 14)\n",
      "Target Train: (125009, 14)\n"
     ]
    }
   ],
   "source": [
    "print(\"Source Train:\", enc_train.shape)\n",
    "print(\"Target Train:\", dec_train.shape)"
   ]
  },
  {
   "cell_type": "markdown",
   "id": "d7b25479",
   "metadata": {},
   "source": [
    "-> 학습데이터 갯수가 124960개 이하이므로 이대로 학습을 시켜주겠습니다."
   ]
  },
  {
   "cell_type": "markdown",
   "id": "a3bfdd3d",
   "metadata": {},
   "source": [
    "## 평가 데이터셋 만들기"
   ]
  },
  {
   "cell_type": "code",
   "execution_count": 10,
   "id": "339df263",
   "metadata": {},
   "outputs": [
    {
     "data": {
      "text/plain": [
       "<BatchDataset shapes: ((256, 14), (256, 14)), types: (tf.int32, tf.int32)>"
      ]
     },
     "execution_count": 10,
     "metadata": {},
     "output_type": "execute_result"
    }
   ],
   "source": [
    "BUFFER_SIZE = len(src_input)\n",
    "BATCH_SIZE = 256\n",
    "steps_per_spoch = len(src_input) // BATCH_SIZE\n",
    "\n",
    "VOCAB_SIZE = tokenizer.num_words + 1    # tokenizer가 구축한 단어사전 내 15000개와, 여기 포함되지 않은 0:<pad>를 포함하여 15001개\n",
    "\n",
    "dataset = tf.data.Dataset.from_tensor_slices((src_input, tgt_input)).shuffle(BUFFER_SIZE)\n",
    "dataset = dataset.batch(BATCH_SIZE, drop_remainder=True)\n",
    "dataset"
   ]
  },
  {
   "cell_type": "markdown",
   "id": "59500a15",
   "metadata": {},
   "source": [
    "## 인공지능 만들기"
   ]
  },
  {
   "cell_type": "code",
   "execution_count": 11,
   "id": "cb768005",
   "metadata": {},
   "outputs": [],
   "source": [
    "class TextGenerator(tf.keras.Model):\n",
    "    def __init__(self, vocab_size, embedding_size, hidden_size):\n",
    "        super(TextGenerator, self).__init__()\n",
    "        \n",
    "        self.embedding = tf.keras.layers.Embedding(vocab_size, embedding_size)\n",
    "        self.rnn_1 = tf.keras.layers.LSTM(hidden_size, return_sequences=True)\n",
    "        self.rnn_2 = tf.keras.layers.LSTM(hidden_size, return_sequences=True)\n",
    "        self.drop  = tf.keras.layers.Dropout(0.5)\n",
    "        self.linear = tf.keras.layers.Dense(vocab_size)\n",
    "        \n",
    "    def call(self, x):\n",
    "        out = self.embedding(x)\n",
    "        out = self.rnn_1(out)\n",
    "        out = self.rnn_2(out)\n",
    "        out = self.drop(out)\n",
    "        out = self.linear(out)\n",
    "        \n",
    "        return out\n",
    "    \n",
    "embedding_size = 256\n",
    "hidden_size = 2048\n",
    "model = TextGenerator(tokenizer.num_words + 1, embedding_size , hidden_size)"
   ]
  },
  {
   "cell_type": "code",
   "execution_count": 12,
   "id": "d0026c1f",
   "metadata": {},
   "outputs": [
    {
     "data": {
      "text/plain": [
       "<tf.Tensor: shape=(256, 14, 12001), dtype=float32, numpy=\n",
       "array([[[ 1.77126582e-04,  8.56576935e-06,  1.04353858e-04, ...,\n",
       "         -7.55038272e-05, -7.78922622e-05,  1.04565450e-04],\n",
       "        [ 4.22573765e-04,  1.34169051e-04,  2.45785108e-04, ...,\n",
       "         -8.05161544e-05,  4.31105436e-05,  3.08106217e-04],\n",
       "        [ 7.22432393e-04,  5.35010302e-04,  2.07251884e-04, ...,\n",
       "         -7.19123927e-05,  1.20504294e-04,  3.07239214e-04],\n",
       "        ...,\n",
       "        [ 1.21211470e-03,  2.35255482e-03, -6.85962499e-04, ...,\n",
       "         -4.46773454e-04,  4.33438458e-04, -9.34198906e-04],\n",
       "        [ 1.31492992e-03,  2.56342394e-03, -8.33245984e-04, ...,\n",
       "         -7.74964807e-04,  7.04416190e-04, -1.16331817e-03],\n",
       "        [ 1.41516177e-03,  2.76693143e-03, -9.39389749e-04, ...,\n",
       "         -1.12283556e-03,  9.77909891e-04, -1.37121684e-03]],\n",
       "\n",
       "       [[ 1.77126582e-04,  8.56576935e-06,  1.04353858e-04, ...,\n",
       "         -7.55038272e-05, -7.78922622e-05,  1.04565450e-04],\n",
       "        [ 2.32334831e-04, -1.64986932e-06,  1.53306479e-04, ...,\n",
       "         -9.70738038e-05,  2.77666637e-04,  2.83882022e-04],\n",
       "        [ 5.06783137e-04, -1.41742334e-04,  1.54182009e-04, ...,\n",
       "         -5.95448619e-05,  5.50799828e-04,  3.96346324e-04],\n",
       "        ...,\n",
       "        [ 1.36433926e-03,  1.92354771e-03, -7.94718449e-04, ...,\n",
       "         -1.33501075e-03,  1.27451867e-03, -4.25527338e-04],\n",
       "        [ 1.45021034e-03,  2.28230422e-03, -8.54605401e-04, ...,\n",
       "         -1.63086492e-03,  1.43100170e-03, -6.66057225e-04],\n",
       "        [ 1.53681578e-03,  2.60167127e-03, -8.92273441e-04, ...,\n",
       "         -1.92838255e-03,  1.59094040e-03, -8.99794453e-04]],\n",
       "\n",
       "       [[ 1.77126582e-04,  8.56576935e-06,  1.04353858e-04, ...,\n",
       "         -7.55038272e-05, -7.78922622e-05,  1.04565450e-04],\n",
       "        [ 2.07616147e-04, -4.54223737e-05, -1.28587744e-05, ...,\n",
       "          3.82331527e-05, -1.42298286e-05,  2.06665762e-04],\n",
       "        [ 1.48726234e-04,  3.87316504e-05, -3.91247340e-05, ...,\n",
       "         -1.21630088e-04,  4.76807982e-05,  2.69362412e-04],\n",
       "        ...,\n",
       "        [ 5.52330050e-04, -1.33789144e-03,  3.26977577e-03, ...,\n",
       "         -1.08982681e-03,  1.14740098e-04,  1.13129185e-03],\n",
       "        [ 2.88735580e-04, -1.20099925e-03,  3.33849993e-03, ...,\n",
       "         -1.17348984e-03,  1.29275912e-04,  1.07594056e-03],\n",
       "        [ 1.47500396e-04, -7.07957486e-04,  3.16696218e-03, ...,\n",
       "         -1.24783418e-03,  1.91776926e-04,  9.15293873e-04]],\n",
       "\n",
       "       ...,\n",
       "\n",
       "       [[ 1.77126582e-04,  8.56576935e-06,  1.04353858e-04, ...,\n",
       "         -7.55038272e-05, -7.78922622e-05,  1.04565450e-04],\n",
       "        [-4.07533371e-05, -1.34069400e-04,  1.07425025e-04, ...,\n",
       "          5.09258789e-05,  7.08719090e-05,  5.19959940e-05],\n",
       "        [ 2.47048214e-04, -5.06415789e-04,  4.74288245e-05, ...,\n",
       "         -6.76306008e-05,  2.79046159e-04, -3.95445619e-04],\n",
       "        ...,\n",
       "        [ 6.54733332e-04,  6.17097656e-04, -1.15278980e-03, ...,\n",
       "         -7.10157212e-04,  3.07994778e-04, -1.95374945e-03],\n",
       "        [ 7.60127732e-04,  1.09972327e-03, -1.23414327e-03, ...,\n",
       "         -9.56127478e-04,  4.90215665e-04, -1.94793276e-03],\n",
       "        [ 8.74107762e-04,  1.54077832e-03, -1.28827291e-03, ...,\n",
       "         -1.23177690e-03,  7.13723304e-04, -1.95672386e-03]],\n",
       "\n",
       "       [[ 1.77126582e-04,  8.56576935e-06,  1.04353858e-04, ...,\n",
       "         -7.55038272e-05, -7.78922622e-05,  1.04565450e-04],\n",
       "        [ 1.83791373e-04, -1.05733925e-04, -1.73774824e-04, ...,\n",
       "         -9.04045010e-05, -2.08400801e-04,  1.86130055e-04],\n",
       "        [ 4.64273362e-05, -1.86421836e-04, -2.45433330e-04, ...,\n",
       "         -1.12774549e-04, -2.24475531e-04,  2.55725725e-04],\n",
       "        ...,\n",
       "        [ 4.68966391e-05, -8.16529035e-04, -4.85887867e-04, ...,\n",
       "          4.63781878e-04, -1.23055372e-06, -6.57659912e-05],\n",
       "        [ 2.60424975e-04, -3.51053372e-04, -5.45414863e-04, ...,\n",
       "          5.25540207e-04, -1.09257868e-04, -9.96118542e-05],\n",
       "        [ 5.30155317e-04,  2.26850258e-04, -6.32111507e-04, ...,\n",
       "          4.41428012e-04, -1.16162773e-04, -2.29304525e-04]],\n",
       "\n",
       "       [[ 1.77126582e-04,  8.56576935e-06,  1.04353858e-04, ...,\n",
       "         -7.55038272e-05, -7.78922622e-05,  1.04565450e-04],\n",
       "        [ 4.50812775e-04, -4.19258940e-05,  1.60817959e-04, ...,\n",
       "         -7.57790476e-05,  1.83861135e-04,  3.36202444e-04],\n",
       "        [ 4.62876953e-04, -2.66074436e-04,  6.78702127e-05, ...,\n",
       "         -1.76473914e-04,  2.25450131e-04,  4.63659147e-04],\n",
       "        ...,\n",
       "        [ 1.18626363e-03,  2.76523386e-03, -1.18302763e-03, ...,\n",
       "         -1.91111851e-03,  1.41251169e-03, -1.41507154e-03],\n",
       "        [ 1.29220355e-03,  3.01760971e-03, -1.16119208e-03, ...,\n",
       "         -2.19783001e-03,  1.59417011e-03, -1.60746346e-03],\n",
       "        [ 1.39663450e-03,  3.24199232e-03, -1.12526189e-03, ...,\n",
       "         -2.47146259e-03,  1.75203325e-03, -1.78450625e-03]]],\n",
       "      dtype=float32)>"
      ]
     },
     "execution_count": 12,
     "metadata": {},
     "output_type": "execute_result"
    }
   ],
   "source": [
    "for src_sample, tgt_sample in dataset.take(1): break\n",
    "model(src_sample)"
   ]
  },
  {
   "cell_type": "code",
   "execution_count": 13,
   "id": "8a149684",
   "metadata": {},
   "outputs": [
    {
     "name": "stdout",
     "output_type": "stream",
     "text": [
      "Model: \"text_generator\"\n",
      "_________________________________________________________________\n",
      "Layer (type)                 Output Shape              Param #   \n",
      "=================================================================\n",
      "embedding (Embedding)        multiple                  3072256   \n",
      "_________________________________________________________________\n",
      "lstm (LSTM)                  multiple                  18882560  \n",
      "_________________________________________________________________\n",
      "lstm_1 (LSTM)                multiple                  33562624  \n",
      "_________________________________________________________________\n",
      "dropout (Dropout)            multiple                  0         \n",
      "_________________________________________________________________\n",
      "dense (Dense)                multiple                  24590049  \n",
      "=================================================================\n",
      "Total params: 80,107,489\n",
      "Trainable params: 80,107,489\n",
      "Non-trainable params: 0\n",
      "_________________________________________________________________\n"
     ]
    }
   ],
   "source": [
    "model.summary()"
   ]
  },
  {
   "cell_type": "code",
   "execution_count": null,
   "id": "62f58b22",
   "metadata": {},
   "outputs": [
    {
     "name": "stdout",
     "output_type": "stream",
     "text": [
      "Epoch 1/10\n",
      "610/610 [==============================] - 601s 981ms/step - loss: 3.2773\n",
      "Epoch 2/10\n",
      "610/610 [==============================] - 593s 971ms/step - loss: 2.8082\n",
      "Epoch 3/10\n",
      "610/610 [==============================] - 601s 985ms/step - loss: 2.5593\n",
      "Epoch 4/10\n"
     ]
    }
   ],
   "source": [
    "optimizer = tf.keras.optimizers.Adam()\n",
    "loss = tf.keras.losses.SparseCategoricalCrossentropy(\n",
    "    from_logits=True,\n",
    "    reduction='none'\n",
    ")\n",
    "\n",
    "model.compile(loss=loss, optimizer=optimizer)\n",
    "model.fit(dataset, epochs=10)"
   ]
  },
  {
   "cell_type": "code",
   "execution_count": null,
   "id": "471f933d",
   "metadata": {},
   "outputs": [],
   "source": [
    "results = model.evaluate(enc_val,  dec_val, verbose=2)\n",
    "\n",
    "print(results)"
   ]
  },
  {
   "cell_type": "code",
   "execution_count": null,
   "id": "5e6355e6",
   "metadata": {},
   "outputs": [],
   "source": []
  },
  {
   "cell_type": "code",
   "execution_count": null,
   "id": "79c0b2e2",
   "metadata": {},
   "outputs": [],
   "source": []
  },
  {
   "cell_type": "markdown",
   "id": "1e856809",
   "metadata": {},
   "source": [
    "평가 문항 상세 기준\n",
    "\n",
    "1. 가사 텍스트 생성 모델이 정상적으로 동작하는가?\n",
    "    - 텍스트 제너레이션 결과가 그럴듯한 문장으로 생성되는가?\n",
    "    \n",
    "2. 데이터의 전처리와 데이터셋의 구성 과정이 체계적으로 진행되었는가?\n",
    "    - 특수문제 제거, 토크나이저 생성, 패딩처리 등의 과정이 빠짐없이 진행되었는가?\n",
    "    \n",
    "3. 텍스트 생성모델이 안정적으로 학습되엇는가?\n",
    "    - 텍스트 생성모델의 validation loss가 2.2 이하로 낮아졌는가?"
   ]
  }
 ],
 "metadata": {
  "kernelspec": {
   "display_name": "Python 3 (ipykernel)",
   "language": "python",
   "name": "python3"
  },
  "language_info": {
   "codemirror_mode": {
    "name": "ipython",
    "version": 3
   },
   "file_extension": ".py",
   "mimetype": "text/x-python",
   "name": "python",
   "nbconvert_exporter": "python",
   "pygments_lexer": "ipython3",
   "version": "3.9.7"
  }
 },
 "nbformat": 4,
 "nbformat_minor": 5
}

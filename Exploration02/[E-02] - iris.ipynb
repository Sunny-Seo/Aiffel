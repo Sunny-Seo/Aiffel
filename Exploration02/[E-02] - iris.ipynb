{
 "cells": [
  {
   "cell_type": "markdown",
   "id": "20905dfe",
   "metadata": {},
   "source": [
    "프로젝트 (1) load_digits - 손글씨를 분류해 봅시다.ipynb\n",
    "https://github.com/Sunny-Seo/Aiffel/blob/cfee96fb5d014536633f9b53f91ecb542c1f37cd/Exploration02/%ED%94%84%EB%A1%9C%EC%A0%9D%ED%8A%B8%20(1)%20load_digits%20-%20%20%EC%86%90%EA%B8%80%EC%94%A8%EB%A5%BC%20%EB%B6%84%EB%A5%98%ED%95%B4%20%EB%B4%85%EC%8B%9C%EB%8B%A4.ipynb"
   ]
  },
  {
   "cell_type": "markdown",
   "id": "6705889d",
   "metadata": {},
   "source": [
    "프로젝트 (2) load_wine - 와인을 분류해 봅시다.ipynb\n",
    "https://github.com/Sunny-Seo/Aiffel/blob/cfee96fb5d014536633f9b53f91ecb542c1f37cd/Exploration02/%ED%94%84%EB%A1%9C%EC%A0%9D%ED%8A%B8%20(2)%20load_wine%20-%20%EC%99%80%EC%9D%B8%EC%9D%84%20%EB%B6%84%EB%A5%98%ED%95%B4%20%EB%B4%85%EC%8B%9C%EB%8B%A4.ipynb"
   ]
  },
  {
   "cell_type": "markdown",
   "id": "da497c81",
   "metadata": {},
   "source": [
    "프로젝트 (3) load_breast_cancer - 유방암 여부를 진단해 봅시다.ipynb\n",
    "https://github.com/Sunny-Seo/Aiffel/blob/cfee96fb5d014536633f9b53f91ecb542c1f37cd/Exploration02/%ED%94%84%EB%A1%9C%EC%A0%9D%ED%8A%B8%20(3)%20load_breast_cancer%20%20-%20%EC%9C%A0%EB%B0%A9%EC%95%94%20%EC%97%AC%EB%B6%80%EB%A5%BC%20%EC%A7%84%EB%8B%A8%ED%95%B4%20%EB%B4%85%EC%8B%9C%EB%8B%A4.ipynb"
   ]
  },
  {
   "cell_type": "code",
   "execution_count": null,
   "id": "3a861af5",
   "metadata": {},
   "outputs": [],
   "source": []
  }
 ],
 "metadata": {
  "kernelspec": {
   "display_name": "Python 3 (ipykernel)",
   "language": "python",
   "name": "python3"
  },
  "language_info": {
   "codemirror_mode": {
    "name": "ipython",
    "version": 3
   },
   "file_extension": ".py",
   "mimetype": "text/x-python",
   "name": "python",
   "nbconvert_exporter": "python",
   "pygments_lexer": "ipython3",
   "version": "3.9.7"
  }
 },
 "nbformat": 4,
 "nbformat_minor": 5
}

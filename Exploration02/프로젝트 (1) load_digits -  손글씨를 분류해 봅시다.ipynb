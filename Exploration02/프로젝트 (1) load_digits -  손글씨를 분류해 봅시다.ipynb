{
 "cells": [
  {
   "cell_type": "markdown",
   "id": "ec0d7960",
   "metadata": {},
   "source": [
    "## (1) 필요한 모듈 import하기"
   ]
  },
  {
   "cell_type": "code",
   "execution_count": 1,
   "id": "d0575df2",
   "metadata": {},
   "outputs": [],
   "source": [
    "from sklearn.datasets import load_digits\n",
    "from sklearn.model_selection import train_test_split\n",
    "from sklearn.metrics import classification_report"
   ]
  },
  {
   "cell_type": "markdown",
   "id": "8f2a5336",
   "metadata": {},
   "source": [
    "## (2) 데이터 준비"
   ]
  },
  {
   "cell_type": "code",
   "execution_count": 7,
   "id": "1e3df403",
   "metadata": {},
   "outputs": [
    {
     "name": "stdout",
     "output_type": "stream",
     "text": [
      "['DESCR', 'data', 'feature_names', 'frame', 'images', 'target', 'target_names']\n"
     ]
    }
   ],
   "source": [
    "from sklearn.datasets import load_digits\n",
    "\n",
    "digits = load_digits()\n",
    "\n",
    "print(dir(digits))\n",
    "# dir()는 객체가 어떤 변수와 메서드를 가지고 있는지 나열함"
   ]
  },
  {
   "cell_type": "markdown",
   "id": "1c86b677",
   "metadata": {},
   "source": [
    "## (3) 데이터 이해하기"
   ]
  },
  {
   "cell_type": "code",
   "execution_count": 12,
   "id": "a81165c6",
   "metadata": {},
   "outputs": [
    {
     "data": {
      "text/plain": [
       "dict_keys(['data', 'target', 'frame', 'feature_names', 'target_names', 'images', 'DESCR'])"
      ]
     },
     "execution_count": 12,
     "metadata": {},
     "output_type": "execute_result"
    }
   ],
   "source": [
    "digits.keys()"
   ]
  },
  {
   "cell_type": "code",
   "execution_count": 11,
   "id": "c40882b4",
   "metadata": {},
   "outputs": [
    {
     "name": "stdout",
     "output_type": "stream",
     "text": [
      "(1797, 64)\n"
     ]
    }
   ],
   "source": [
    "digits_data = digits.data\n",
    "\n",
    "print(digits_data.shape) \n",
    "#shape는 배열의 형상정보를 출력"
   ]
  },
  {
   "cell_type": "code",
   "execution_count": 10,
   "id": "0184457a",
   "metadata": {},
   "outputs": [
    {
     "name": "stdout",
     "output_type": "stream",
     "text": [
      "(1797,)\n"
     ]
    },
    {
     "data": {
      "text/plain": [
       "array([0, 1, 2, ..., 8, 9, 8])"
      ]
     },
     "execution_count": 10,
     "metadata": {},
     "output_type": "execute_result"
    }
   ],
   "source": [
    "digits_label = digits.target\n",
    "print(digits_label.shape)\n",
    "digits_label"
   ]
  },
  {
   "cell_type": "code",
   "execution_count": 13,
   "id": "cf12cbfd",
   "metadata": {},
   "outputs": [
    {
     "data": {
      "text/plain": [
       "array([ 0.,  0.,  5., 13.,  9.,  1.,  0.,  0.,  0.,  0., 13., 15., 10.,\n",
       "       15.,  5.,  0.,  0.,  3., 15.,  2.,  0., 11.,  8.,  0.,  0.,  4.,\n",
       "       12.,  0.,  0.,  8.,  8.,  0.,  0.,  5.,  8.,  0.,  0.,  9.,  8.,\n",
       "        0.,  0.,  4., 11.,  0.,  1., 12.,  7.,  0.,  0.,  2., 14.,  5.,\n",
       "       10., 12.,  0.,  0.,  0.,  0.,  6., 13., 10.,  0.,  0.,  0.])"
      ]
     },
     "execution_count": 13,
     "metadata": {},
     "output_type": "execute_result"
    }
   ],
   "source": [
    "digits_data[0]"
   ]
  },
  {
   "cell_type": "code",
   "execution_count": 14,
   "id": "5d3f92b3",
   "metadata": {},
   "outputs": [
    {
     "data": {
      "text/plain": [
       "array([0, 1, 2, 3, 4, 5, 6, 7, 8, 9])"
      ]
     },
     "execution_count": 14,
     "metadata": {},
     "output_type": "execute_result"
    }
   ],
   "source": [
    "digits.target_names"
   ]
  },
  {
   "cell_type": "code",
   "execution_count": 15,
   "id": "fa4da399",
   "metadata": {},
   "outputs": [
    {
     "name": "stdout",
     "output_type": "stream",
     "text": [
      ".. _digits_dataset:\n",
      "\n",
      "Optical recognition of handwritten digits dataset\n",
      "--------------------------------------------------\n",
      "\n",
      "**Data Set Characteristics:**\n",
      "\n",
      "    :Number of Instances: 1797\n",
      "    :Number of Attributes: 64\n",
      "    :Attribute Information: 8x8 image of integer pixels in the range 0..16.\n",
      "    :Missing Attribute Values: None\n",
      "    :Creator: E. Alpaydin (alpaydin '@' boun.edu.tr)\n",
      "    :Date: July; 1998\n",
      "\n",
      "This is a copy of the test set of the UCI ML hand-written digits datasets\n",
      "https://archive.ics.uci.edu/ml/datasets/Optical+Recognition+of+Handwritten+Digits\n",
      "\n",
      "The data set contains images of hand-written digits: 10 classes where\n",
      "each class refers to a digit.\n",
      "\n",
      "Preprocessing programs made available by NIST were used to extract\n",
      "normalized bitmaps of handwritten digits from a preprinted form. From a\n",
      "total of 43 people, 30 contributed to the training set and different 13\n",
      "to the test set. 32x32 bitmaps are divided into nonoverlapping blocks of\n",
      "4x4 and the number of on pixels are counted in each block. This generates\n",
      "an input matrix of 8x8 where each element is an integer in the range\n",
      "0..16. This reduces dimensionality and gives invariance to small\n",
      "distortions.\n",
      "\n",
      "For info on NIST preprocessing routines, see M. D. Garris, J. L. Blue, G.\n",
      "T. Candela, D. L. Dimmick, J. Geist, P. J. Grother, S. A. Janet, and C.\n",
      "L. Wilson, NIST Form-Based Handprint Recognition System, NISTIR 5469,\n",
      "1994.\n",
      "\n",
      ".. topic:: References\n",
      "\n",
      "  - C. Kaynak (1995) Methods of Combining Multiple Classifiers and Their\n",
      "    Applications to Handwritten Digit Recognition, MSc Thesis, Institute of\n",
      "    Graduate Studies in Science and Engineering, Bogazici University.\n",
      "  - E. Alpaydin, C. Kaynak (1998) Cascading Classifiers, Kybernetika.\n",
      "  - Ken Tang and Ponnuthurai N. Suganthan and Xi Yao and A. Kai Qin.\n",
      "    Linear dimensionalityreduction using relevance weighted LDA. School of\n",
      "    Electrical and Electronic Engineering Nanyang Technological University.\n",
      "    2005.\n",
      "  - Claudio Gentile. A New Approximate Maximal Margin Classification\n",
      "    Algorithm. NIPS. 2000.\n",
      "\n"
     ]
    }
   ],
   "source": [
    "print(digits.DESCR)"
   ]
  },
  {
   "cell_type": "markdown",
   "id": "ba6f9623",
   "metadata": {},
   "source": [
    "## (4) train, test 데이터 분리"
   ]
  },
  {
   "cell_type": "code",
   "execution_count": 16,
   "id": "83d552ad",
   "metadata": {},
   "outputs": [
    {
     "name": "stdout",
     "output_type": "stream",
     "text": [
      "X_train 개수:  1437 , X_test 개수:  360\n"
     ]
    }
   ],
   "source": [
    "from sklearn.model_selection import train_test_split\n",
    "\n",
    "X_train, X_test, y_train, y_test = train_test_split(digits_data, \n",
    "                                                    digits_label, \n",
    "                                                    test_size=0.2, \n",
    "                                                    random_state=80)\n",
    "\n",
    "# train : test의 비율을 0.8 : 0.2로 지정\n",
    "# train, test 데이터가 랜덤으로 변경되지 않도록 random_state=80 으로 지정함\n",
    "\n",
    "print('X_train 개수: ', len(X_train),', X_test 개수: ', len(X_test))"
   ]
  },
  {
   "cell_type": "code",
   "execution_count": 17,
   "id": "278a240d",
   "metadata": {},
   "outputs": [
    {
     "data": {
      "text/plain": [
       "(array([9, 6, 4, ..., 9, 0, 1]),\n",
       " array([6, 7, 0, 1, 5, 7, 8, 4, 3, 1, 4, 2, 9, 0, 1, 6, 6, 3, 1, 3, 5, 1,\n",
       "        8, 3, 9, 9, 4, 4, 0, 1, 0, 3, 3, 6, 9, 7, 2, 4, 0, 0, 7, 7, 1, 9,\n",
       "        7, 0, 1, 2, 4, 0, 3, 2, 4, 3, 9, 3, 5, 2, 0, 8, 2, 3, 4, 2, 5, 2,\n",
       "        1, 7, 6, 4, 8, 1, 4, 6, 4, 7, 2, 4, 3, 8, 7, 9, 5, 3, 5, 0, 6, 1,\n",
       "        1, 1, 9, 3, 6, 2, 7, 2, 9, 9, 3, 2, 9, 5, 8, 0, 9, 0, 5, 1, 2, 7,\n",
       "        8, 4, 8, 8, 4, 4, 4, 6, 5, 4, 3, 3, 4, 1, 2, 4, 5, 9, 2, 6, 7, 9,\n",
       "        3, 7, 8, 2, 5, 4, 3, 9, 3, 3, 8, 7, 6, 3, 8, 0, 5, 9, 1, 6, 0, 8,\n",
       "        3, 5, 9, 2, 4, 6, 0, 8, 9, 6, 5, 2, 4, 3, 5, 2, 3, 4, 7, 4, 7, 5,\n",
       "        4, 9, 3, 2, 1, 6, 8, 6, 1, 3, 4, 1, 2, 4, 0, 2, 3, 9, 5, 4, 2, 5,\n",
       "        4, 6, 4, 3, 2, 9, 2, 7, 8, 2, 4, 6, 1, 8, 4, 4, 9, 4, 0, 4, 4, 9,\n",
       "        7, 9, 1, 2, 9, 9, 2, 4, 0, 5, 8, 5, 0, 0, 1, 6, 6, 0, 4, 5, 5, 4,\n",
       "        5, 9, 3, 1, 9, 8, 9, 5, 4, 0, 0, 6, 8, 3, 4, 3, 0, 9, 5, 0, 5, 5,\n",
       "        6, 8, 1, 6, 5, 2, 9, 5, 2, 3, 4, 1, 7, 4, 5, 8, 1, 6, 1, 9, 2, 2,\n",
       "        9, 5, 3, 7, 9, 1, 3, 3, 6, 5, 7, 0, 3, 5, 5, 2, 2, 3, 0, 1, 8, 9,\n",
       "        6, 8, 3, 1, 9, 7, 5, 9, 8, 5, 0, 1, 7, 5, 2, 3, 1, 1, 6, 1, 0, 3,\n",
       "        1, 7, 3, 3, 8, 8, 8, 7, 5, 8, 7, 2, 5, 7, 3, 5, 2, 1, 5, 4, 6, 5,\n",
       "        1, 8, 2, 8, 6, 4, 3, 5]))"
      ]
     },
     "execution_count": 17,
     "metadata": {},
     "output_type": "execute_result"
    }
   ],
   "source": [
    "y_train, y_test"
   ]
  },
  {
   "cell_type": "markdown",
   "id": "3f3d7846",
   "metadata": {},
   "source": [
    "## (5) 다양한 모델로 학습시켜보기"
   ]
  },
  {
   "cell_type": "markdown",
   "id": "93470a43",
   "metadata": {},
   "source": [
    "### (5)-1 Decision Tree 사용해 보기"
   ]
  },
  {
   "cell_type": "code",
   "execution_count": 19,
   "id": "07324cc8",
   "metadata": {},
   "outputs": [
    {
     "name": "stdout",
     "output_type": "stream",
     "text": [
      "              precision    recall  f1-score   support\n",
      "\n",
      "           0       0.83      1.00      0.91        29\n",
      "           1       0.82      0.89      0.86        37\n",
      "           2       0.85      0.74      0.79        38\n",
      "           3       0.84      0.82      0.83        44\n",
      "           4       0.93      0.93      0.93        45\n",
      "           5       0.86      0.84      0.85        43\n",
      "           6       0.96      0.86      0.91        29\n",
      "           7       0.83      0.89      0.86        27\n",
      "           8       0.67      0.77      0.72        31\n",
      "           9       0.77      0.65      0.71        37\n",
      "\n",
      "    accuracy                           0.84       360\n",
      "   macro avg       0.84      0.84      0.83       360\n",
      "weighted avg       0.84      0.84      0.84       360\n",
      "\n"
     ]
    }
   ],
   "source": [
    "from sklearn.tree import DecisionTreeClassifier\n",
    "\n",
    "X_train, X_test, y_train, y_test = train_test_split(digits_data, \n",
    "                                                    digits_label, \n",
    "                                                    test_size=0.2, \n",
    "                                                    random_state=80)\n",
    "\n",
    "decision_tree = DecisionTreeClassifier(random_state=80)\n",
    "decision_tree.fit(X_train, y_train)\n",
    "y_pred = decision_tree.predict(X_test)\n",
    "\n",
    "print(classification_report(y_test, y_pred))"
   ]
  },
  {
   "cell_type": "markdown",
   "id": "c74aaf8f",
   "metadata": {},
   "source": [
    "### (5)-2 Random Forest 사용해 보기"
   ]
  },
  {
   "cell_type": "code",
   "execution_count": 20,
   "id": "858d6d39",
   "metadata": {},
   "outputs": [
    {
     "name": "stdout",
     "output_type": "stream",
     "text": [
      "              precision    recall  f1-score   support\n",
      "\n",
      "           0       0.94      1.00      0.97        29\n",
      "           1       0.97      0.97      0.97        37\n",
      "           2       0.97      0.95      0.96        38\n",
      "           3       1.00      0.95      0.98        44\n",
      "           4       0.98      0.93      0.95        45\n",
      "           5       0.98      0.98      0.98        43\n",
      "           6       1.00      0.97      0.98        29\n",
      "           7       0.93      1.00      0.96        27\n",
      "           8       1.00      0.94      0.97        31\n",
      "           9       0.90      1.00      0.95        37\n",
      "\n",
      "    accuracy                           0.97       360\n",
      "   macro avg       0.97      0.97      0.97       360\n",
      "weighted avg       0.97      0.97      0.97       360\n",
      "\n"
     ]
    }
   ],
   "source": [
    "from sklearn.ensemble import RandomForestClassifier\n",
    "\n",
    "X_train, X_test, y_train, y_test = train_test_split(digits_data, \n",
    "                                                    digits_label, \n",
    "                                                    test_size=0.2, \n",
    "                                                    random_state=80)\n",
    "\n",
    "random_forest = RandomForestClassifier(random_state=80)\n",
    "random_forest.fit(X_train, y_train)\n",
    "y_pred = random_forest.predict(X_test)\n",
    "\n",
    "print(classification_report(y_test, y_pred))"
   ]
  },
  {
   "cell_type": "markdown",
   "id": "29871de3",
   "metadata": {},
   "source": [
    "### (5)-3 SVM 사용해 보기"
   ]
  },
  {
   "cell_type": "code",
   "execution_count": 21,
   "id": "7b263145",
   "metadata": {},
   "outputs": [
    {
     "name": "stdout",
     "output_type": "stream",
     "text": [
      "              precision    recall  f1-score   support\n",
      "\n",
      "           0       1.00      1.00      1.00        29\n",
      "           1       1.00      1.00      1.00        37\n",
      "           2       1.00      1.00      1.00        38\n",
      "           3       1.00      0.98      0.99        44\n",
      "           4       1.00      0.96      0.98        45\n",
      "           5       1.00      0.98      0.99        43\n",
      "           6       1.00      1.00      1.00        29\n",
      "           7       0.96      1.00      0.98        27\n",
      "           8       1.00      1.00      1.00        31\n",
      "           9       0.93      1.00      0.96        37\n",
      "\n",
      "    accuracy                           0.99       360\n",
      "   macro avg       0.99      0.99      0.99       360\n",
      "weighted avg       0.99      0.99      0.99       360\n",
      "\n"
     ]
    }
   ],
   "source": [
    "from sklearn import svm\n",
    "\n",
    "X_train, X_test, y_train, y_test = train_test_split(digits_data, \n",
    "                                                    digits_label, \n",
    "                                                    test_size=0.2, \n",
    "                                                    random_state=80)\n",
    "\n",
    "svm_model = svm.SVC()\n",
    "svm_model.fit(X_train, y_train)\n",
    "y_pred = svm_model.predict(X_test)\n",
    "\n",
    "print(classification_report(y_test, y_pred))"
   ]
  },
  {
   "cell_type": "markdown",
   "id": "8d0c42f3",
   "metadata": {},
   "source": [
    "### (5)-4 SGD Classifier 사용해 보기"
   ]
  },
  {
   "cell_type": "code",
   "execution_count": 22,
   "id": "16277f4a",
   "metadata": {},
   "outputs": [
    {
     "name": "stdout",
     "output_type": "stream",
     "text": [
      "              precision    recall  f1-score   support\n",
      "\n",
      "           0       0.94      1.00      0.97        29\n",
      "           1       0.97      0.86      0.91        37\n",
      "           2       0.97      0.92      0.95        38\n",
      "           3       0.93      0.98      0.96        44\n",
      "           4       1.00      0.93      0.97        45\n",
      "           5       0.93      0.95      0.94        43\n",
      "           6       1.00      0.97      0.98        29\n",
      "           7       1.00      1.00      1.00        27\n",
      "           8       0.93      0.90      0.92        31\n",
      "           9       0.84      0.97      0.90        37\n",
      "\n",
      "    accuracy                           0.95       360\n",
      "   macro avg       0.95      0.95      0.95       360\n",
      "weighted avg       0.95      0.95      0.95       360\n",
      "\n"
     ]
    }
   ],
   "source": [
    "from sklearn.linear_model import SGDClassifier\n",
    "\n",
    "X_train, X_test, y_train, y_test = train_test_split(digits_data, \n",
    "                                                    digits_label, \n",
    "                                                    test_size=0.2, \n",
    "                                                    random_state=80)\n",
    "\n",
    "sgd_model = SGDClassifier()\n",
    "sgd_model.fit(X_train, y_train)\n",
    "y_pred = sgd_model.predict(X_test)\n",
    "\n",
    "print(classification_report(y_test, y_pred))"
   ]
  },
  {
   "cell_type": "markdown",
   "id": "4653f552",
   "metadata": {},
   "source": [
    "### (5)-5 Logistic Regression 사용해 보기"
   ]
  },
  {
   "cell_type": "code",
   "execution_count": 24,
   "id": "e927fdda",
   "metadata": {},
   "outputs": [
    {
     "name": "stdout",
     "output_type": "stream",
     "text": [
      "classifier\n",
      "              precision    recall  f1-score   support\n",
      "\n",
      "           0       0.97      1.00      0.98        29\n",
      "           1       1.00      0.95      0.97        37\n",
      "           2       1.00      1.00      1.00        38\n",
      "           3       0.94      1.00      0.97        44\n",
      "           4       1.00      0.96      0.98        45\n",
      "           5       1.00      0.93      0.96        43\n",
      "           6       1.00      0.97      0.98        29\n",
      "           7       1.00      1.00      1.00        27\n",
      "           8       0.91      0.97      0.94        31\n",
      "           9       0.87      0.92      0.89        37\n",
      "\n",
      "    accuracy                           0.97       360\n",
      "   macro avg       0.97      0.97      0.97       360\n",
      "weighted avg       0.97      0.97      0.97       360\n",
      "\n"
     ]
    },
    {
     "name": "stderr",
     "output_type": "stream",
     "text": [
      "/opt/conda/lib/python3.9/site-packages/sklearn/linear_model/_logistic.py:814: ConvergenceWarning: lbfgs failed to converge (status=1):\n",
      "STOP: TOTAL NO. of ITERATIONS REACHED LIMIT.\n",
      "\n",
      "Increase the number of iterations (max_iter) or scale the data as shown in:\n",
      "    https://scikit-learn.org/stable/modules/preprocessing.html\n",
      "Please also refer to the documentation for alternative solver options:\n",
      "    https://scikit-learn.org/stable/modules/linear_model.html#logistic-regression\n",
      "  n_iter_i = _check_optimize_result(\n"
     ]
    }
   ],
   "source": [
    "from sklearn.linear_model import LogisticRegression\n",
    "\n",
    "X_train, X_test, y_train, y_test = train_test_split(digits_data, \n",
    "                                                    digits_label, \n",
    "                                                    test_size=0.2, \n",
    "                                                    random_state=80)\n",
    "\n",
    "logistic_model = LogisticRegression()\n",
    "logistic_model.fit(X_train, y_train)\n",
    "y_pred = logistic_model.predict(X_test)\n",
    "\n",
    "print(logistic_model._estimator_type)\n",
    "\n",
    "print(classification_report(y_test, y_pred))"
   ]
  },
  {
   "cell_type": "markdown",
   "id": "e52fe565",
   "metadata": {},
   "source": [
    "## (6) 모델을 평가해 보기"
   ]
  },
  {
   "cell_type": "markdown",
   "id": "f4452de1",
   "metadata": {},
   "source": [
    "precision    recall  f1-score   support 등 모든 부분에서 SVM이 두각을 나타냄."
   ]
  },
  {
   "cell_type": "code",
   "execution_count": null,
   "id": "973a3d05",
   "metadata": {},
   "outputs": [],
   "source": []
  }
 ],
 "metadata": {
  "kernelspec": {
   "display_name": "Python 3 (ipykernel)",
   "language": "python",
   "name": "python3"
  },
  "language_info": {
   "codemirror_mode": {
    "name": "ipython",
    "version": 3
   },
   "file_extension": ".py",
   "mimetype": "text/x-python",
   "name": "python",
   "nbconvert_exporter": "python",
   "pygments_lexer": "ipython3",
   "version": "3.9.7"
  }
 },
 "nbformat": 4,
 "nbformat_minor": 5
}

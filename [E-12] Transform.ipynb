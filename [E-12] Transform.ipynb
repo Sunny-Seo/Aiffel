{
 "cells": [
  {
   "cell_type": "markdown",
   "id": "dbb63ec6",
   "metadata": {},
   "source": [
    "# 용량이 너무 커서 두개로 나눴어요!\n",
    "# 감사합니다~! 좋은 하루 되세요!!"
   ]
  },
  {
   "cell_type": "raw",
   "id": "b085fb82",
   "metadata": {},
   "source": [
    "@  https://github.com/Sunny-Seo/Aiffel/blob/a0beb99b13fbf3fdc7b10e1007b969cbf36861fc/%5BE-12%5D%20transformer_chatbot-Copy1.ipynb\n",
    "\n",
    "@  https://github.com/Sunny-Seo/Aiffel/blob/a0beb99b13fbf3fdc7b10e1007b969cbf36861fc/%5BE-12%5D%20transformer_chatbot-Copy2.ipynb"
   ]
  },
  {
   "cell_type": "code",
   "execution_count": null,
   "id": "1147129f",
   "metadata": {},
   "outputs": [],
   "source": []
  }
 ],
 "metadata": {
  "kernelspec": {
   "display_name": "Python 3 (ipykernel)",
   "language": "python",
   "name": "python3"
  },
  "language_info": {
   "codemirror_mode": {
    "name": "ipython",
    "version": 3
   },
   "file_extension": ".py",
   "mimetype": "text/x-python",
   "name": "python",
   "nbconvert_exporter": "python",
   "pygments_lexer": "ipython3",
   "version": "3.9.7"
  }
 },
 "nbformat": 4,
 "nbformat_minor": 5
}
